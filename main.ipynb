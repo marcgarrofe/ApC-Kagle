{
 "cells": [
  {
   "cell_type": "code",
   "execution_count": 30,
   "id": "43f2126e",
   "metadata": {},
   "outputs": [],
   "source": [
    "# Cas Kaggle Individual - Aprenentatge Computacional 2021-2022\n",
    "# Marc Garrofé Urrutia - 1565644"
   ]
  },
  {
   "cell_type": "code",
   "execution_count": 31,
   "id": "e6f93d3e",
   "metadata": {},
   "outputs": [],
   "source": [
    "# Imports :\n",
    "import numpy as np\n",
    "import pandas as pd\n",
    "import os\n",
    "from IPython.display import Image, display"
   ]
  },
  {
   "cell_type": "code",
   "execution_count": 32,
   "id": "6923996a",
   "metadata": {},
   "outputs": [],
   "source": [
    "# Constants :\n",
    "IMG_DATASET_PATH = 'Brain Tumor/Brain Tumor'\n",
    "CSV_DATASET_PATH = '/Brain Tumor.csv'\n",
    "IMG_RES_X = 240\n",
    "IMG_RES_Y = 240"
   ]
  },
  {
   "cell_type": "code",
   "execution_count": 57,
   "id": "631f73e4",
   "metadata": {},
   "outputs": [],
   "source": [
    "\"\"\"\n",
    "showImg : Given a image vector it shows the pictures\n",
    "\"\"\"\n",
    "def showImg(img_vec):\n",
    "    for img in img_vec:\n",
    "        display(Image(filename=img))"
   ]
  },
  {
   "cell_type": "code",
   "execution_count": 59,
   "id": "0befce48",
   "metadata": {},
   "outputs": [
    {
     "data": {
      "text/plain": [
       "['Brain Tumor/Brain Tumor/Image1.jpg']"
      ]
     },
     "execution_count": 59,
     "metadata": {},
     "output_type": "execute_result"
    }
   ],
   "source": [
    "img = IMG_DATASET_PATH + '/Image1.jpg'\n",
    "list_img = list([img])\n",
    "list_img"
   ]
  },
  {
   "cell_type": "code",
   "execution_count": 60,
   "id": "ecb1a8f5",
   "metadata": {},
   "outputs": [
    {
     "data": {
      "image/jpeg": "[encoded data removed]",
      "text/plain": [
       "<IPython.core.display.Image object>"
      ]
     },
     "metadata": {},
     "output_type": "display_data"
    }
   ],
   "source": [
    "showImg(list_img)"
   ]
  },
  {
   "cell_type": "code",
   "execution_count": null,
   "id": "33295c8c",
   "metadata": {},
   "outputs": [],
   "source": []
  },
  {
   "cell_type": "code",
   "execution_count": null,
   "id": "7a863c63",
   "metadata": {},
   "outputs": [],
   "source": []
  }
 ],
 "metadata": {
  "kernelspec": {
   "display_name": "Python 3 (ipykernel)",
   "language": "python",
   "name": "python3"
  },
  "language_info": {
   "codemirror_mode": {
    "name": "ipython",
    "version": 3
   },
   "file_extension": ".py",
   "mimetype": "text/x-python",
   "name": "python",
   "nbconvert_exporter": "python",
   "pygments_lexer": "ipython3",
   "version": "3.8.4rc1"
  }
 },
 "nbformat": 4,
 "nbformat_minor": 5
}
