{
 "cells": [
  {
   "cell_type": "code",
   "execution_count": 2,
   "id": "43f2126e",
   "metadata": {},
   "outputs": [],
   "source": [
    "# Cas Kaggle Individual - Aprenentatge Computacional 2021-2022\n",
    "# Marc Garrofé Urrutia - 1565644"
   ]
  },
  {
   "cell_type": "code",
   "execution_count": null,
   "id": "e6f93d3e",
   "metadata": {},
   "outputs": [],
   "source": [
    "# Imports :\n",
    "import numpy as np\n",
    "import pandas as pd\n",
    "import os"
   ]
  },
  {
   "cell_type": "code",
   "execution_count": null,
   "id": "6923996a",
   "metadata": {},
   "outputs": [],
   "source": [
    "# Constants :\n",
    "IMG_PATH = \"/Brain Tumor/Brain Tumor\"\n",
    "CSV_PATH = \"/Brain Tumor.csv\"\n",
    "IMG_RES_X = 240\n",
    "IMG_RES_Y = 240"
   ]
  },
  {
   "cell_type": "code",
   "execution_count": null,
   "id": "631f73e4",
   "metadata": {},
   "outputs": [],
   "source": []
  },
  {
   "cell_type": "code",
   "execution_count": null,
   "id": "0befce48",
   "metadata": {},
   "outputs": [],
   "source": []
  }
 ],
 "metadata": {
  "kernelspec": {
   "display_name": "Python 3 (ipykernel)",
   "language": "python",
   "name": "python3"
  },
  "language_info": {
   "codemirror_mode": {
    "name": "ipython",
    "version": 3
   },
   "file_extension": ".py",
   "mimetype": "text/x-python",
   "name": "python",
   "nbconvert_exporter": "python",
   "pygments_lexer": "ipython3",
   "version": "3.8.4rc1"
  }
 },
 "nbformat": 4,
 "nbformat_minor": 5
}
